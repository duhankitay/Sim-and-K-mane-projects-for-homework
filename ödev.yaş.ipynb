{
  "metadata": {
    "kernelspec": {
      "name": "python",
      "display_name": "Python (Pyodide)",
      "language": "python"
    },
    "language_info": {
      "codemirror_mode": {
        "name": "python",
        "version": 3
      },
      "file_extension": ".py",
      "mimetype": "text/x-python",
      "name": "python",
      "nbconvert_exporter": "python",
      "pygments_lexer": "ipython3",
      "version": "3.8"
    }
  },
  "nbformat_minor": 4,
  "nbformat": 4,
  "cells": [
    {
      "cell_type": "code",
      "source": "import pandas as pd\nimport numpy as np\n\nyaşlar = [15, 15, 16, 19, 19, 20, 20, 21, 22, 28, 35, 40, 41, 42, 43, 44, 60, 61, 65]\nc1 = 16\nc2 = 22\n\n\ndef merkez(yaş, cluster_1, cluster_2):\n    c1_fark = abs(yaş - cluster_1)\n    c2_fark = abs(yaş - cluster_2)\n    if c2_fark > c1_fark:\n        return cluster_1\n    elif c1_fark >= c2_fark:\n        return cluster_2\n\n\ndef find_cluster(cluster1, cluster2):\n    c1_toplam = 0\n    c2_toplam = 0\n    a = 0\n    b = 0\n\n    for yaş in yaşlar:\n        nearest_cluster = merkez(yaş, cluster1, cluster2)\n        if nearest_cluster == cluster2:\n            b += 1\n            c2_toplam += yaş\n        elif nearest_cluster == cluster1:\n            a += 1\n            c1_toplam += yaş\n    return c1_toplam / a, c2_toplam / b\n\n\nc1_son = c1\nc2_son = c2\n\nsonuç = []\n\nfor i in range(1, 5):\n    c1, c2 = find_cluster(c1_son, c2_son)\n\n    data = []\n    for yaş in yaşlar:\n        c1_fark = abs(yaş - c1_son)\n        c2_fark = abs(yaş - c2_son)\n        cluster = \"1\" if merkez(yaş, c1_son, c2_son) == c1_son else \"2\"\n        new_cluster = c1 if cluster == \"1\" else c2\n        data.append([yaş, f\"{c1_son:.2f}\", f\"{c2_son:.2f}\", f\"{c1_fark:.2f}\", f\"{c2_fark:.2f}\", cluster,\n                     f\"{new_cluster:.2f}\"])\n\n    df = pd.DataFrame(data, columns=[\"Xi\", \"C1\", \"C2\", \"Fark 1\", \"Fark 2\", \"En Yakın Küme\", \"Küme Merkezi\"])\n\n    sonuç.append({\n        'Iterasyon': i,\n        'Küme Merkezleri': {'c1': c1, 'c2': c2},\n        'Sonuçlar': df\n    })\n\n    c1_son = c1\n    c2_son2 = c2\n\nfor p in sonuç:\n    print(f\"Iterasyon: {p['Iterasyon']}\")\n    print(\"Küme Merkezleri:\", p['Küme Merkezleri'])\n    print(\"Sonuçlar:\")\n    print(p['Sonuçlar'])\n    print()\n",
      "metadata": {
        "trusted": true
      },
      "outputs": [],
      "execution_count": null
    }
  ]
}